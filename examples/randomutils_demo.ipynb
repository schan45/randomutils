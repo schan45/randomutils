{
 "cells": [
  {
   "cell_type": "markdown",
   "id": "3f4fed94",
   "metadata": {},
   "source": [
    "# 🎲 RandomUtils\n",
    "\n",
    "Ez a notebook bemutatja a `randomutils` nevű saját Python csomag működését.\n",
    "\n",
    "A csomag különböző véletlenszerű adatgeneráló funkciókat tartalmaz:\n",
    "- jelszógenerálás\n",
    "- véletlen szavak, nevek\n",
    "- mátrixok, stringek, dátumok, float listák\n",
    "- lista megkeverése\n",
    "\n",
    "---"
   ]
  },
  {
   "cell_type": "code",
   "execution_count": 13,
   "id": "90324ee1",
   "metadata": {},
   "outputs": [],
   "source": [
    "from randomutils.generators import (\n",
    "    generate_password,\n",
    "    random_word,\n",
    "    random_matrix,\n",
    "    random_dates,\n",
    "    generate_pseudoword,\n",
    "    random_float_list,\n",
    "    shuffle_list,\n",
    "    random_int_in_range,\n",
    "    group_random_names\n",
    ")"
   ]
  },
  {
   "cell_type": "markdown",
   "id": "08a5ec35",
   "metadata": {},
   "source": [
    "## 1. `generate_password()`\n",
    "\n",
    "Véletlenszerű jelszót generál megadott hosszúsággal.  \n",
    "A jelszó betűket, számokat és írásjeleket tartalmaz.\n"
   ]
  },
  {
   "cell_type": "code",
   "execution_count": 14,
   "id": "0485fe78",
   "metadata": {},
   "outputs": [
    {
     "data": {
      "text/plain": [
       "'$5X/0~-o4/@+'"
      ]
     },
     "execution_count": 14,
     "metadata": {},
     "output_type": "execute_result"
    }
   ],
   "source": [
    "generate_password(12)"
   ]
  },
  {
   "cell_type": "markdown",
   "id": "e7b8f152",
   "metadata": {},
   "source": [
    "## 2. `random_word()`\n",
    "\n",
    "Egy listából választ ki véletlenszerűen egy szót.\n"
   ]
  },
  {
   "cell_type": "code",
   "execution_count": 15,
   "id": "46991ee6",
   "metadata": {},
   "outputs": [
    {
     "data": {
      "text/plain": [
       "'alma'"
      ]
     },
     "execution_count": 15,
     "metadata": {},
     "output_type": "execute_result"
    }
   ],
   "source": [
    "words = [\"alma\", \"körte\", \"barack\"]\n",
    "random_word(words)"
   ]
  },
  {
   "cell_type": "markdown",
   "id": "5c6c14bd",
   "metadata": {},
   "source": [
    "## 3. `random_matrix()`\n",
    "\n",
    "Véletlen egész számokat tartalmazó mátrixot generál, megadott mérettel és tartománnyal.\n"
   ]
  },
  {
   "cell_type": "code",
   "execution_count": 16,
   "id": "176f6452",
   "metadata": {},
   "outputs": [
    {
     "name": "stdout",
     "output_type": "stream",
     "text": [
      "[6, 4, 10, 6]\n",
      "[10, 9, 7, 7]\n",
      "[10, 10, 5, 10]\n"
     ]
    }
   ],
   "source": [
    "matrix = random_matrix(3, 4, 1, 10)\n",
    "for row in matrix:\n",
    "    print(row)"
   ]
  },
  {
   "cell_type": "markdown",
   "id": "4f68c52e",
   "metadata": {},
   "source": [
    "## 4. `random_dates()`\n",
    "\n",
    "Két dátum közötti véletlen dátumokat generál (n darabot).\n"
   ]
  },
  {
   "cell_type": "code",
   "execution_count": 17,
   "id": "07892650",
   "metadata": {},
   "outputs": [
    {
     "data": {
      "text/plain": [
       "['2023-01-03', '2023-01-02', '2023-01-01']"
      ]
     },
     "execution_count": 17,
     "metadata": {},
     "output_type": "execute_result"
    }
   ],
   "source": [
    "random_dates(\"2023-01-01\", \"2023-01-10\", 3)"
   ]
  },
  {
   "cell_type": "markdown",
   "id": "7dc0607d",
   "metadata": {},
   "source": [
    "## 5. `generate_pseudoword()`\n",
    "\n",
    "Ez egy pszeudo-szóképző, amely váltogatja a mássalhangzó + magánhangzó mintát, nem garantálja, hogy létező szó, de emberi nyelvhez hasonló hangzása lesz.\n"
   ]
  },
  {
   "cell_type": "code",
   "execution_count": 18,
   "id": "b58a9aee",
   "metadata": {},
   "outputs": [
    {
     "name": "stdout",
     "output_type": "stream",
     "text": [
      "Példaszó: Tiwuko\n"
     ]
    }
   ],
   "source": [
    "print(\"Példaszó:\", generate_pseudoword(6))"
   ]
  },
  {
   "cell_type": "markdown",
   "id": "3d4ecfd7",
   "metadata": {},
   "source": [
    "## 6. `random_float_list()`\n",
    "\n",
    "Véletlen lebegőpontos számokat generál egy listába.\n"
   ]
  },
  {
   "cell_type": "code",
   "execution_count": 19,
   "id": "8a5a5d21",
   "metadata": {},
   "outputs": [
    {
     "data": {
      "text/plain": [
       "[1.8125142195264938,\n",
       " 1.385127211820857,\n",
       " 1.1463881974511871,\n",
       " 1.5052776720965015,\n",
       " 1.1600612201274525]"
      ]
     },
     "execution_count": 19,
     "metadata": {},
     "output_type": "execute_result"
    }
   ],
   "source": [
    "random_float_list(5, 1.0, 2.0)"
   ]
  },
  {
   "cell_type": "markdown",
   "id": "249b1db8",
   "metadata": {},
   "source": [
    "## 7. `shuffle_list()`\n",
    "\n",
    "Egy meglévő lista elemeit véletlenszerűen megkeveri.\n"
   ]
  },
  {
   "cell_type": "code",
   "execution_count": 20,
   "id": "b6942b9a",
   "metadata": {},
   "outputs": [
    {
     "name": "stdout",
     "output_type": "stream",
     "text": [
      "Eredeti: [1, 2, 3, 4, 5]\n",
      "Megkevert: [3, 4, 1, 2, 5]\n"
     ]
    }
   ],
   "source": [
    "original = [1, 2, 3, 4, 5]\n",
    "shuffled = shuffle_list(original)\n",
    "print(\"Eredeti:\", original)\n",
    "print(\"Megkevert:\", shuffled)"
   ]
  },
  {
   "cell_type": "markdown",
   "id": "7b9fa385",
   "metadata": {},
   "source": [
    "## 8. `random_int_in_range()`\n",
    "\n",
    "Véletlenszerű egész szám generálása megadott [start, end] tartományban.\n"
   ]
  },
  {
   "cell_type": "code",
   "execution_count": 21,
   "id": "d05e41c6",
   "metadata": {},
   "outputs": [
    {
     "data": {
      "text/plain": [
       "104"
      ]
     },
     "execution_count": 21,
     "metadata": {},
     "output_type": "execute_result"
    }
   ],
   "source": [
    "random_int_in_range(100, 200)"
   ]
  },
  {
   "cell_type": "markdown",
   "id": "769e0683",
   "metadata": {},
   "source": [
    "## 9. `group_random_names()`\n",
    "\n",
    "Ez a függvény a megadott nevek listáját véletlenszerűen több csoportba osztja szét, úgy hogy a csoportok mérete megközelítőleg egyenlő legyen.\n"
   ]
  },
  {
   "cell_type": "code",
   "execution_count": 22,
   "id": "bef40bb4",
   "metadata": {},
   "outputs": [
    {
     "name": "stdout",
     "output_type": "stream",
     "text": [
      "1. csoport: ['Judit', 'Anna', 'Hanna', 'István']\n",
      "2. csoport: ['Fruzsi', 'Erik', 'Béla']\n",
      "3. csoport: ['Csaba', 'Gábor', 'Dóra']\n"
     ]
    }
   ],
   "source": [
    "names = [\"Anna\", \"Béla\", \"Csaba\", \"Dóra\", \"Erik\", \"Fruzsi\", \"Gábor\", \"Hanna\", \"István\", \"Judit\"]\n",
    "groups = group_random_names(names, 3)\n",
    "\n",
    "for i, g in enumerate(groups, start=1):\n",
    "    print(f\"{i}. csoport: {g}\")"
   ]
  }
 ],
 "metadata": {
  "kernelspec": {
   "display_name": "Python 3",
   "language": "python",
   "name": "python3"
  },
  "language_info": {
   "codemirror_mode": {
    "name": "ipython",
    "version": 3
   },
   "file_extension": ".py",
   "mimetype": "text/x-python",
   "name": "python",
   "nbconvert_exporter": "python",
   "pygments_lexer": "ipython3",
   "version": "3.11.9"
  }
 },
 "nbformat": 4,
 "nbformat_minor": 5
}
