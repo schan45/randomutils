{
 "cells": [
  {
   "cell_type": "markdown",
   "id": "3f4fed94",
   "metadata": {},
   "source": [
    "# 🎲 RandomUtils\n",
    "\n",
    "Ez a notebook bemutatja a `randomutils` nevű saját Python csomag működését.\n",
    "\n",
    "A csomag különböző véletlenszerű adatgeneráló funkciókat tartalmaz:\n",
    "- jelszógenerálás\n",
    "- véletlen szavak, nevek\n",
    "- mátrixok, stringek, dátumok, float listák\n",
    "- lista megkeverése\n",
    "\n",
    "---"
   ]
  },
  {
   "cell_type": "code",
   "execution_count": 4,
   "id": "cdde7ed4",
   "metadata": {},
   "outputs": [
    {
     "name": "stdout",
     "output_type": "stream",
     "text": [
      "✅ A randomutils csomag már telepítve van.\n"
     ]
    }
   ],
   "source": [
    "# 📦 randomutils csomag telepítése, ha még nincs\n",
    "import os\n",
    "import sys\n",
    "\n",
    "try:\n",
    "    import randomutils\n",
    "    print(\"✅ A randomutils csomag már telepítve van.\")\n",
    "except ImportError:\n",
    "    print(\"🔧 randomutils csomag nem található, telepítés indul...\")\n",
    "\n",
    "    # Ha a notebook az examples mappából fut, lépjünk vissza a gyökérbe\n",
    "    if not os.path.exists(\"pyproject.toml\") and os.path.exists(\"../pyproject.toml\"):\n",
    "        %cd ..\n",
    "\n",
    "    # Ha a pyproject.toml megtalálható, akkor telepítsük a csomagot helyileg\n",
    "    if os.path.exists(\"pyproject.toml\"):\n",
    "        print(\"📦 Telepítés helyi forrásból...\")\n",
    "        !pip install -e . > /dev/null\n",
    "    else:\n",
    "        # Ellenkező esetben próbáljuk meg GitHub-ról telepíteni\n",
    "        print(\"🌐 GitHub-ról telepítés...\")\n",
    "        !pip install -q git+https://github.com/schan45/randomutils.git"
   ]
  },
  {
   "cell_type": "code",
   "execution_count": 5,
   "id": "90324ee1",
   "metadata": {},
   "outputs": [],
   "source": [
    "from randomutils.generators import (\n",
    "    generate_password,\n",
    "    random_word,\n",
    "    random_matrix,\n",
    "    random_dates,\n",
    "    generate_pseudoword,\n",
    "    random_float_list,\n",
    "    shuffle_list,\n",
    "    random_int_in_range,\n",
    "    group_random_names\n",
    ")"
   ]
  },
  {
   "cell_type": "markdown",
   "id": "08a5ec35",
   "metadata": {},
   "source": [
    "## 1. `generate_password()`\n",
    "\n",
    "Véletlenszerű jelszót generál megadott hosszúsággal.  \n",
    "A jelszó betűket, számokat és írásjeleket tartalmaz.\n"
   ]
  },
  {
   "cell_type": "code",
   "execution_count": 6,
   "id": "0485fe78",
   "metadata": {},
   "outputs": [
    {
     "data": {
      "text/plain": [
       "'qnPOZ5$rm<X7'"
      ]
     },
     "execution_count": 6,
     "metadata": {},
     "output_type": "execute_result"
    }
   ],
   "source": [
    "generate_password(12)"
   ]
  },
  {
   "cell_type": "markdown",
   "id": "e7b8f152",
   "metadata": {},
   "source": [
    "## 2. `random_word()`\n",
    "\n",
    "Egy listából választ ki véletlenszerűen egy szót.\n"
   ]
  },
  {
   "cell_type": "code",
   "execution_count": 7,
   "id": "46991ee6",
   "metadata": {},
   "outputs": [
    {
     "data": {
      "text/plain": [
       "'körte'"
      ]
     },
     "execution_count": 7,
     "metadata": {},
     "output_type": "execute_result"
    }
   ],
   "source": [
    "words = [\"alma\", \"körte\", \"barack\"]\n",
    "random_word(words)"
   ]
  },
  {
   "cell_type": "markdown",
   "id": "5c6c14bd",
   "metadata": {},
   "source": [
    "## 3. `random_matrix()`\n",
    "\n",
    "Véletlen egész számokat tartalmazó mátrixot generál, megadott mérettel és tartománnyal.\n"
   ]
  },
  {
   "cell_type": "code",
   "execution_count": 8,
   "id": "176f6452",
   "metadata": {},
   "outputs": [
    {
     "name": "stdout",
     "output_type": "stream",
     "text": [
      "[5, 6, 9, 2]\n",
      "[7, 2, 7, 4]\n",
      "[4, 1, 2, 5]\n"
     ]
    }
   ],
   "source": [
    "matrix = random_matrix(3, 4, 1, 10)\n",
    "for row in matrix:\n",
    "    print(row)"
   ]
  },
  {
   "cell_type": "markdown",
   "id": "4f68c52e",
   "metadata": {},
   "source": [
    "## 4. `random_dates()`\n",
    "\n",
    "Két dátum közötti véletlen dátumokat generál (n darabot).\n"
   ]
  },
  {
   "cell_type": "code",
   "execution_count": 9,
   "id": "07892650",
   "metadata": {},
   "outputs": [
    {
     "data": {
      "text/plain": [
       "['2023-01-09', '2023-01-02', '2023-01-03']"
      ]
     },
     "execution_count": 9,
     "metadata": {},
     "output_type": "execute_result"
    }
   ],
   "source": [
    "random_dates(\"2023-01-01\", \"2023-01-10\", 3)"
   ]
  },
  {
   "cell_type": "markdown",
   "id": "7dc0607d",
   "metadata": {},
   "source": [
    "## 5. `generate_pseudoword()`\n",
    "\n",
    "Ez egy pszeudo-szóképző, amely váltogatja a mássalhangzó + magánhangzó mintát, nem garantálja, hogy létező szó, de emberi nyelvhez hasonló hangzása lesz.\n"
   ]
  },
  {
   "cell_type": "code",
   "execution_count": 10,
   "id": "b58a9aee",
   "metadata": {},
   "outputs": [
    {
     "name": "stdout",
     "output_type": "stream",
     "text": [
      "Példaszó: Yodajo\n"
     ]
    }
   ],
   "source": [
    "print(\"Példaszó:\", generate_pseudoword(6))"
   ]
  },
  {
   "cell_type": "markdown",
   "id": "3d4ecfd7",
   "metadata": {},
   "source": [
    "## 6. `random_float_list()`\n",
    "\n",
    "Véletlen lebegőpontos számokat generál egy listába.\n"
   ]
  },
  {
   "cell_type": "code",
   "execution_count": 11,
   "id": "8a5a5d21",
   "metadata": {},
   "outputs": [
    {
     "data": {
      "text/plain": [
       "[1.3295339928475816,\n",
       " 1.0094297704472406,\n",
       " 1.117234770129044,\n",
       " 1.7699028466856466,\n",
       " 1.0157235535332947]"
      ]
     },
     "execution_count": 11,
     "metadata": {},
     "output_type": "execute_result"
    }
   ],
   "source": [
    "random_float_list(5, 1.0, 2.0)"
   ]
  },
  {
   "cell_type": "markdown",
   "id": "249b1db8",
   "metadata": {},
   "source": [
    "## 7. `shuffle_list()`\n",
    "\n",
    "Egy meglévő lista elemeit véletlenszerűen megkeveri.\n"
   ]
  },
  {
   "cell_type": "code",
   "execution_count": 12,
   "id": "b6942b9a",
   "metadata": {},
   "outputs": [
    {
     "name": "stdout",
     "output_type": "stream",
     "text": [
      "Eredeti: [1, 2, 3, 4, 5]\n",
      "Megkevert: [3, 2, 5, 1, 4]\n"
     ]
    }
   ],
   "source": [
    "original = [1, 2, 3, 4, 5]\n",
    "shuffled = shuffle_list(original)\n",
    "print(\"Eredeti:\", original)\n",
    "print(\"Megkevert:\", shuffled)"
   ]
  },
  {
   "cell_type": "markdown",
   "id": "7b9fa385",
   "metadata": {},
   "source": [
    "## 8. `random_int_in_range()`\n",
    "\n",
    "Véletlenszerű egész szám generálása megadott [start, end] tartományban.\n"
   ]
  },
  {
   "cell_type": "code",
   "execution_count": 13,
   "id": "d05e41c6",
   "metadata": {},
   "outputs": [
    {
     "data": {
      "text/plain": [
       "183"
      ]
     },
     "execution_count": 13,
     "metadata": {},
     "output_type": "execute_result"
    }
   ],
   "source": [
    "random_int_in_range(100, 200)"
   ]
  },
  {
   "cell_type": "markdown",
   "id": "769e0683",
   "metadata": {},
   "source": [
    "## 9. `group_random_names()`\n",
    "\n",
    "Ez a függvény a megadott nevek listáját véletlenszerűen több csoportba osztja szét, úgy hogy a csoportok mérete megközelítőleg egyenlő legyen.\n"
   ]
  },
  {
   "cell_type": "code",
   "execution_count": 14,
   "id": "bef40bb4",
   "metadata": {},
   "outputs": [
    {
     "name": "stdout",
     "output_type": "stream",
     "text": [
      "1. csoport: ['Csaba', 'Fruzsi', 'Judit', 'Béla']\n",
      "2. csoport: ['István', 'Hanna', 'Anna']\n",
      "3. csoport: ['Gábor', 'Dóra', 'Erik']\n"
     ]
    }
   ],
   "source": [
    "names = [\"Anna\", \"Béla\", \"Csaba\", \"Dóra\", \"Erik\", \"Fruzsi\", \"Gábor\", \"Hanna\", \"István\", \"Judit\"]\n",
    "groups = group_random_names(names, 3)\n",
    "\n",
    "for i, g in enumerate(groups, start=1):\n",
    "    print(f\"{i}. csoport: {g}\")"
   ]
  }
 ],
 "metadata": {
  "kernelspec": {
   "display_name": "Python 3",
   "language": "python",
   "name": "python3"
  },
  "language_info": {
   "codemirror_mode": {
    "name": "ipython",
    "version": 3
   },
   "file_extension": ".py",
   "mimetype": "text/x-python",
   "name": "python",
   "nbconvert_exporter": "python",
   "pygments_lexer": "ipython3",
   "version": "3.11.9"
  }
 },
 "nbformat": 4,
 "nbformat_minor": 5
}
